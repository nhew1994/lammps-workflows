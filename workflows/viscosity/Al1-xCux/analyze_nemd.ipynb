{
 "cells": [
  {
   "cell_type": "markdown",
   "metadata": {},
   "source": [
    "# Analysis"
   ]
  },
  {
   "cell_type": "code",
   "execution_count": 41,
   "metadata": {},
   "outputs": [],
   "source": [
    "import os\n",
    "\n",
    "# 1. Select potential folder\n",
    "#potential_folder = \"2025_Sharifi\"\n",
    "potential_folder = \"2022_Mahata\"\n",
    "#potential_folder = \"Zhou04_eam_alloy\"\n",
    "#potential_folder = \"Cu1_eam_fs\"\n",
    "\n",
    "# 2. Pick simulation parameters: composition, temperature and shear strain rate\n",
    "x = 1.00  # Cu fraction\n",
    "T = 1800  # Temperature (K)\n",
    "xyrate_1_per_s = 1e9  # Shear rate (1/s)\n",
    "xyrate_str = f\"{xyrate_1_per_s:.0e}\".replace(\"+0\", \"\").replace(\"+\", \"\") # For path\n",
    "\n",
    "# Directory and file path formatting\n",
    "path = os.path.join(\n",
    "    \"/ocean/projects/dmr190011p/nhew/lammps-workflows/workflows/viscosity/Al1-xCux\",\n",
    "    potential_folder, f\"x_{x:.2f}/{T}K/{xyrate_str}/\"\n",
    ")\n",
    "os.makedirs(path, exist_ok=True)"
   ]
  },
  {
   "cell_type": "markdown",
   "metadata": {},
   "source": [
    "## Plot the average velocity profile"
   ]
  },
  {
   "cell_type": "code",
   "execution_count": 42,
   "metadata": {},
   "outputs": [
    {
     "name": "stdout",
     "output_type": "stream",
     "text": [
      "Y box length: 53.68288698020543\n"
     ]
    }
   ],
   "source": [
    "from ovito.io import import_file\n",
    "dump_file = os.path.join(path, \"dump_nemd_analyze\")\n",
    "pipeline = import_file(dump_file)\n",
    "data = pipeline.compute(0)  # 0 = first frame\n",
    "\n",
    "# Get the y box length\n",
    "length_y = data.cell.matrix[1, 1]\n",
    "print(\"Y box length:\", length_y)"
   ]
  },
  {
   "cell_type": "code",
   "execution_count": 43,
   "metadata": {},
   "outputs": [
    {
     "data": {
      "application/vnd.plotly.v1+json": {
       "config": {
        "plotlyServerURL": "https://plot.ly"
       },
       "data": [
        {
         "marker": {
          "size": 8
         },
         "mode": "markers",
         "name": "Data",
         "type": "scatter",
         "x": {
          "bdata": "8hfEUQMXlb+DsjqD0IuUv2NNwApLl5G/XU90XfjBkb9a8Ef2rXuQv8pa+RujK4e/BEwqZPiZhL80orQ3+MKEv4cuTbYmgn2/9aCgFK3ce79mwzeg50d6v9X4GryOvGy/iudsAaH1cL9OIiXqw4Jkv8vsJgqKpUy/GxBMLvmxT7/0nNshUaplP4q2GV2Uj3M/fv+kqbdpcD+Ni1nl+Fd1P0Ms7oFO738/TK0QuY3Egz9ehCnKpfGLP+rMPSR8748/umNWlLfIkj+ArseO182WP7cCrzuCwJc/nEjVG1oJmj8=",
          "dtype": "f8"
         },
         "y": {
          "bdata": "0zRSRwWt7j9fpgLGxgEHQMVfGB0mLBNAW2wv12jXGkBnfT+sU0EhQIXBM/b5FiVAvojbNpnsKED4T4N3OMIsQJiLFdzrSzBAp60PAb82MkBEkWOhjiE0QOF0t0FeDDZA8JaxZjH3N0CNegUHAeI5QCleWafQzDtAxkGtR6C3PUDVY6dsc6I/QLmjfYahxkBAh5WnVgm8QUCPpiTpcrFCQF2YTrnapkNAK4p4iUKcRED6e6JZqpFFQAGNH+wTh0ZA0H5JvHt8R0CecHOM43FIQKWB8B5NZ0lAdHMa77RcSkA=",
          "dtype": "f8"
         }
        },
        {
         "line": {
          "color": "red",
          "dash": "dash",
          "width": 2
         },
         "mode": "lines",
         "name": "Linear Fit (R² = 0.9761)",
         "type": "scatter",
         "x": {
          "bdata": "8hfEUQMXlb8SKeSTJp2UvzI6BNZJI5S/U0skGG2pk79zXERakC+Tv5NtZJyztZK/s36E3tY7kr/Tj6Qg+sGRv/SgxGIdSJG/FLLkpEDOkL80wwTnY1SQv6ioSVIOtY+/6MqJ1lTBjr8p7clam82Nv2kPCt/h2Yy/qjFKYyjmi7/qU4rnbvKKvyp2ymu1/om/a5gK8PsKib+rukp0QheIv+zciviII4e/LP/KfM8vhr9sIQsBFjyFv61DS4VcSIS/7WWLCaNUg78tiMuN6WCCv26qCxIwbYG/rsxLlnZ5gL/c3Rc1egt/v14imD0HJH2/3mYYRpQ8e79gq5hOIVV5v+DvGFeubXe/YDSZXzuGdb/geBloyJ5zv2S9mXBVt3G/yAM08sSfb7/IjDQD39Brv8gVNRT5AWi/yJ41JRMzZL/QJzY2LWRgv6BhbY6OKlm/oHNusMKMUb9AC9+k7d1DvwC9hKNXiSK/gFk5poMyNT+giBqP2dRJP1AyjKU4iFQ/UCCLgwQmXD8oB8Uw6OFhPyh+xB/OsGU/IPXDDrR/aT8gbMP9mU5tP5BxYfa/jnA/EC3h7TJ2cj+Q6GDlpV10PxCk4NwYRXY/jF9g1IsseD8MG+DL/hN6P4zWX8Nx+3s/DJLfuuTifT+MTV+yV8p/P4SE71Tl2IA/RGKv0J7MgT8EQG9MWMCCP8QdL8gRtIM/hPvuQ8unhD9C2a6/hJuFPwS3bjs+j4Y/xJQut/eChz+Acu4ysXaIP0BQrq5qaok/AC5uKiReij/ACy6m3VGLP4Dp7SGXRYw/QMetnVA5jT8ApW0ZCi2OP8CCLZXDII8/QLB2iD4KkD8gn1ZGG4SQP/6NNgT4/ZA/3nwWwtR3kT++a/Z/sfGRP55a1j2Oa5I/fkm2+2rlkj9eOJa5R1+TPz4ndnck2ZM/HhZWNQFTlD/+BDbz3cyUP97zFbG6RpU/vuL1bpfAlT+c0dUsdDqWP3zAtepQtJY/XK+VqC0ulz88nnVmCqiXPxyNVSTnIZg//Hs14sObmD/cahWgoBWZP7xZ9V19j5k/nEjVG1oJmj8=",
          "dtype": "f8"
         },
         "y": {
          "bdata": "OE+juUVRCEBQb9e4mKIMQLTHBdz1eRBAvNefW5+iEkDM5znbSMsUQNj301ry8xZA5Adu2pscGUDwFwhaRUUbQPgnotnubR1ACDg8WZiWH0AKJGvsoN8gQBAsOKz18yFAFjQFbEoII0AcPNIrnxwkQCJEn+vzMCVAKExsq0hFJkAuVDlrnVknQDVcBivybShAOmTT6kaCKUBBbKCqm5YqQEZ0bWrwqitATXw6KkW/LEBThAfqmdMtQFiM1Knu5y5AX5ShaUP8L0AyTrcUTIgwQDbSnXR2EjFAOFaE1KCcMUA82mo0yyYyQD5eUZT1sDJAQuI39B87M0BEZh5USsUzQEjqBLR0TzRAS27rE5/ZNEBO8tFzyWM1QFB2uNPz7TVAVPqeMx54NkBXfoWTSAI3QFoCbPNyjDdAXYZSU50WOEBfCjmzx6A4QGOOHxPyKjlAZhIGcxy1OUBpluzSRj86QGwa0zJxyTpAb565kptTO0ByIqDyxd07QHWmhlLwZzxAeCptshryPEB7rlMSRXw9QH4yOnJvBj5AgbYg0pmQPkCEOgcyxBo/QIe+7ZHupD9ARSHqeIwXQEBHY92ooVxAQEil0Ni2oUBASufDCMzmQEBLKbc44StBQE1rqmj2cEFATq2dmAu2QUBQ75DIIPtBQFExhPg1QEJAUnN3KEuFQkBUtWpYYMpCQFb3XYh1D0NAWDlRuIpUQ0BYe0Ton5lDQFu9Nxi13kNAXP8qSMojREBdQR5432hEQF6DEaj0rURAYMUE2AnzREBiB/gHHzhFQGRJ6zc0fUVAZYveZ0nCRUBmzdGXXgdGQGgPxcdzTEZAalG494iRRkBsk6snntZGQGzVnlezG0dAbheSh8hgR0BvWYW33aVHQHCbeOfy6kdAct1rFwgwSEB0H19HHXVIQHZhUncyukhAd6NFp0f/SEB55TjXXERJQHonLAdyiUlAfGkfN4fOSUB8qxJnnBNKQH7tBZexWEpAgC/5xsadSkCCcez22+JKQIOz3ybxJ0tAhPXSVgZtS0CGN8aGG7JLQIh5ubYw90tAirus5kU8TEA=",
          "dtype": "f8"
         }
        }
       ],
       "layout": {
        "annotations": [
         {
          "bgcolor": "white",
          "bordercolor": "black",
          "borderwidth": 1,
          "font": {
           "size": 12
          },
          "showarrow": false,
          "text": "y = 1160.9951x + 26.9511<br>R² = 0.9761",
          "x": 0.05,
          "xref": "paper",
          "y": 0.95,
          "yref": "paper"
         }
        ],
        "font": {
         "family": "Devaju Sans"
        },
        "height": 600,
        "legend": {
         "font": {
          "color": "black",
          "size": 20
         }
        },
        "plot_bgcolor": "white",
        "template": {
         "data": {
          "bar": [
           {
            "error_x": {
             "color": "#2a3f5f"
            },
            "error_y": {
             "color": "#2a3f5f"
            },
            "marker": {
             "line": {
              "color": "#E5ECF6",
              "width": 0.5
             },
             "pattern": {
              "fillmode": "overlay",
              "size": 10,
              "solidity": 0.2
             }
            },
            "type": "bar"
           }
          ],
          "barpolar": [
           {
            "marker": {
             "line": {
              "color": "#E5ECF6",
              "width": 0.5
             },
             "pattern": {
              "fillmode": "overlay",
              "size": 10,
              "solidity": 0.2
             }
            },
            "type": "barpolar"
           }
          ],
          "carpet": [
           {
            "aaxis": {
             "endlinecolor": "#2a3f5f",
             "gridcolor": "white",
             "linecolor": "white",
             "minorgridcolor": "white",
             "startlinecolor": "#2a3f5f"
            },
            "baxis": {
             "endlinecolor": "#2a3f5f",
             "gridcolor": "white",
             "linecolor": "white",
             "minorgridcolor": "white",
             "startlinecolor": "#2a3f5f"
            },
            "type": "carpet"
           }
          ],
          "choropleth": [
           {
            "colorbar": {
             "outlinewidth": 0,
             "ticks": ""
            },
            "type": "choropleth"
           }
          ],
          "contour": [
           {
            "colorbar": {
             "outlinewidth": 0,
             "ticks": ""
            },
            "colorscale": [
             [
              0,
              "#0d0887"
             ],
             [
              0.1111111111111111,
              "#46039f"
             ],
             [
              0.2222222222222222,
              "#7201a8"
             ],
             [
              0.3333333333333333,
              "#9c179e"
             ],
             [
              0.4444444444444444,
              "#bd3786"
             ],
             [
              0.5555555555555556,
              "#d8576b"
             ],
             [
              0.6666666666666666,
              "#ed7953"
             ],
             [
              0.7777777777777778,
              "#fb9f3a"
             ],
             [
              0.8888888888888888,
              "#fdca26"
             ],
             [
              1,
              "#f0f921"
             ]
            ],
            "type": "contour"
           }
          ],
          "contourcarpet": [
           {
            "colorbar": {
             "outlinewidth": 0,
             "ticks": ""
            },
            "type": "contourcarpet"
           }
          ],
          "heatmap": [
           {
            "colorbar": {
             "outlinewidth": 0,
             "ticks": ""
            },
            "colorscale": [
             [
              0,
              "#0d0887"
             ],
             [
              0.1111111111111111,
              "#46039f"
             ],
             [
              0.2222222222222222,
              "#7201a8"
             ],
             [
              0.3333333333333333,
              "#9c179e"
             ],
             [
              0.4444444444444444,
              "#bd3786"
             ],
             [
              0.5555555555555556,
              "#d8576b"
             ],
             [
              0.6666666666666666,
              "#ed7953"
             ],
             [
              0.7777777777777778,
              "#fb9f3a"
             ],
             [
              0.8888888888888888,
              "#fdca26"
             ],
             [
              1,
              "#f0f921"
             ]
            ],
            "type": "heatmap"
           }
          ],
          "histogram": [
           {
            "marker": {
             "pattern": {
              "fillmode": "overlay",
              "size": 10,
              "solidity": 0.2
             }
            },
            "type": "histogram"
           }
          ],
          "histogram2d": [
           {
            "colorbar": {
             "outlinewidth": 0,
             "ticks": ""
            },
            "colorscale": [
             [
              0,
              "#0d0887"
             ],
             [
              0.1111111111111111,
              "#46039f"
             ],
             [
              0.2222222222222222,
              "#7201a8"
             ],
             [
              0.3333333333333333,
              "#9c179e"
             ],
             [
              0.4444444444444444,
              "#bd3786"
             ],
             [
              0.5555555555555556,
              "#d8576b"
             ],
             [
              0.6666666666666666,
              "#ed7953"
             ],
             [
              0.7777777777777778,
              "#fb9f3a"
             ],
             [
              0.8888888888888888,
              "#fdca26"
             ],
             [
              1,
              "#f0f921"
             ]
            ],
            "type": "histogram2d"
           }
          ],
          "histogram2dcontour": [
           {
            "colorbar": {
             "outlinewidth": 0,
             "ticks": ""
            },
            "colorscale": [
             [
              0,
              "#0d0887"
             ],
             [
              0.1111111111111111,
              "#46039f"
             ],
             [
              0.2222222222222222,
              "#7201a8"
             ],
             [
              0.3333333333333333,
              "#9c179e"
             ],
             [
              0.4444444444444444,
              "#bd3786"
             ],
             [
              0.5555555555555556,
              "#d8576b"
             ],
             [
              0.6666666666666666,
              "#ed7953"
             ],
             [
              0.7777777777777778,
              "#fb9f3a"
             ],
             [
              0.8888888888888888,
              "#fdca26"
             ],
             [
              1,
              "#f0f921"
             ]
            ],
            "type": "histogram2dcontour"
           }
          ],
          "mesh3d": [
           {
            "colorbar": {
             "outlinewidth": 0,
             "ticks": ""
            },
            "type": "mesh3d"
           }
          ],
          "parcoords": [
           {
            "line": {
             "colorbar": {
              "outlinewidth": 0,
              "ticks": ""
             }
            },
            "type": "parcoords"
           }
          ],
          "pie": [
           {
            "automargin": true,
            "type": "pie"
           }
          ],
          "scatter": [
           {
            "fillpattern": {
             "fillmode": "overlay",
             "size": 10,
             "solidity": 0.2
            },
            "type": "scatter"
           }
          ],
          "scatter3d": [
           {
            "line": {
             "colorbar": {
              "outlinewidth": 0,
              "ticks": ""
             }
            },
            "marker": {
             "colorbar": {
              "outlinewidth": 0,
              "ticks": ""
             }
            },
            "type": "scatter3d"
           }
          ],
          "scattercarpet": [
           {
            "marker": {
             "colorbar": {
              "outlinewidth": 0,
              "ticks": ""
             }
            },
            "type": "scattercarpet"
           }
          ],
          "scattergeo": [
           {
            "marker": {
             "colorbar": {
              "outlinewidth": 0,
              "ticks": ""
             }
            },
            "type": "scattergeo"
           }
          ],
          "scattergl": [
           {
            "marker": {
             "colorbar": {
              "outlinewidth": 0,
              "ticks": ""
             }
            },
            "type": "scattergl"
           }
          ],
          "scattermap": [
           {
            "marker": {
             "colorbar": {
              "outlinewidth": 0,
              "ticks": ""
             }
            },
            "type": "scattermap"
           }
          ],
          "scattermapbox": [
           {
            "marker": {
             "colorbar": {
              "outlinewidth": 0,
              "ticks": ""
             }
            },
            "type": "scattermapbox"
           }
          ],
          "scatterpolar": [
           {
            "marker": {
             "colorbar": {
              "outlinewidth": 0,
              "ticks": ""
             }
            },
            "type": "scatterpolar"
           }
          ],
          "scatterpolargl": [
           {
            "marker": {
             "colorbar": {
              "outlinewidth": 0,
              "ticks": ""
             }
            },
            "type": "scatterpolargl"
           }
          ],
          "scatterternary": [
           {
            "marker": {
             "colorbar": {
              "outlinewidth": 0,
              "ticks": ""
             }
            },
            "type": "scatterternary"
           }
          ],
          "surface": [
           {
            "colorbar": {
             "outlinewidth": 0,
             "ticks": ""
            },
            "colorscale": [
             [
              0,
              "#0d0887"
             ],
             [
              0.1111111111111111,
              "#46039f"
             ],
             [
              0.2222222222222222,
              "#7201a8"
             ],
             [
              0.3333333333333333,
              "#9c179e"
             ],
             [
              0.4444444444444444,
              "#bd3786"
             ],
             [
              0.5555555555555556,
              "#d8576b"
             ],
             [
              0.6666666666666666,
              "#ed7953"
             ],
             [
              0.7777777777777778,
              "#fb9f3a"
             ],
             [
              0.8888888888888888,
              "#fdca26"
             ],
             [
              1,
              "#f0f921"
             ]
            ],
            "type": "surface"
           }
          ],
          "table": [
           {
            "cells": {
             "fill": {
              "color": "#EBF0F8"
             },
             "line": {
              "color": "white"
             }
            },
            "header": {
             "fill": {
              "color": "#C8D4E3"
             },
             "line": {
              "color": "white"
             }
            },
            "type": "table"
           }
          ]
         },
         "layout": {
          "annotationdefaults": {
           "arrowcolor": "#2a3f5f",
           "arrowhead": 0,
           "arrowwidth": 1
          },
          "autotypenumbers": "strict",
          "coloraxis": {
           "colorbar": {
            "outlinewidth": 0,
            "ticks": ""
           }
          },
          "colorscale": {
           "diverging": [
            [
             0,
             "#8e0152"
            ],
            [
             0.1,
             "#c51b7d"
            ],
            [
             0.2,
             "#de77ae"
            ],
            [
             0.3,
             "#f1b6da"
            ],
            [
             0.4,
             "#fde0ef"
            ],
            [
             0.5,
             "#f7f7f7"
            ],
            [
             0.6,
             "#e6f5d0"
            ],
            [
             0.7,
             "#b8e186"
            ],
            [
             0.8,
             "#7fbc41"
            ],
            [
             0.9,
             "#4d9221"
            ],
            [
             1,
             "#276419"
            ]
           ],
           "sequential": [
            [
             0,
             "#0d0887"
            ],
            [
             0.1111111111111111,
             "#46039f"
            ],
            [
             0.2222222222222222,
             "#7201a8"
            ],
            [
             0.3333333333333333,
             "#9c179e"
            ],
            [
             0.4444444444444444,
             "#bd3786"
            ],
            [
             0.5555555555555556,
             "#d8576b"
            ],
            [
             0.6666666666666666,
             "#ed7953"
            ],
            [
             0.7777777777777778,
             "#fb9f3a"
            ],
            [
             0.8888888888888888,
             "#fdca26"
            ],
            [
             1,
             "#f0f921"
            ]
           ],
           "sequentialminus": [
            [
             0,
             "#0d0887"
            ],
            [
             0.1111111111111111,
             "#46039f"
            ],
            [
             0.2222222222222222,
             "#7201a8"
            ],
            [
             0.3333333333333333,
             "#9c179e"
            ],
            [
             0.4444444444444444,
             "#bd3786"
            ],
            [
             0.5555555555555556,
             "#d8576b"
            ],
            [
             0.6666666666666666,
             "#ed7953"
            ],
            [
             0.7777777777777778,
             "#fb9f3a"
            ],
            [
             0.8888888888888888,
             "#fdca26"
            ],
            [
             1,
             "#f0f921"
            ]
           ]
          },
          "colorway": [
           "#636efa",
           "#EF553B",
           "#00cc96",
           "#ab63fa",
           "#FFA15A",
           "#19d3f3",
           "#FF6692",
           "#B6E880",
           "#FF97FF",
           "#FECB52"
          ],
          "font": {
           "color": "#2a3f5f"
          },
          "geo": {
           "bgcolor": "white",
           "lakecolor": "white",
           "landcolor": "#E5ECF6",
           "showlakes": true,
           "showland": true,
           "subunitcolor": "white"
          },
          "hoverlabel": {
           "align": "left"
          },
          "hovermode": "closest",
          "mapbox": {
           "style": "light"
          },
          "paper_bgcolor": "white",
          "plot_bgcolor": "#E5ECF6",
          "polar": {
           "angularaxis": {
            "gridcolor": "white",
            "linecolor": "white",
            "ticks": ""
           },
           "bgcolor": "#E5ECF6",
           "radialaxis": {
            "gridcolor": "white",
            "linecolor": "white",
            "ticks": ""
           }
          },
          "scene": {
           "xaxis": {
            "backgroundcolor": "#E5ECF6",
            "gridcolor": "white",
            "gridwidth": 2,
            "linecolor": "white",
            "showbackground": true,
            "ticks": "",
            "zerolinecolor": "white"
           },
           "yaxis": {
            "backgroundcolor": "#E5ECF6",
            "gridcolor": "white",
            "gridwidth": 2,
            "linecolor": "white",
            "showbackground": true,
            "ticks": "",
            "zerolinecolor": "white"
           },
           "zaxis": {
            "backgroundcolor": "#E5ECF6",
            "gridcolor": "white",
            "gridwidth": 2,
            "linecolor": "white",
            "showbackground": true,
            "ticks": "",
            "zerolinecolor": "white"
           }
          },
          "shapedefaults": {
           "line": {
            "color": "#2a3f5f"
           }
          },
          "ternary": {
           "aaxis": {
            "gridcolor": "white",
            "linecolor": "white",
            "ticks": ""
           },
           "baxis": {
            "gridcolor": "white",
            "linecolor": "white",
            "ticks": ""
           },
           "bgcolor": "#E5ECF6",
           "caxis": {
            "gridcolor": "white",
            "linecolor": "white",
            "ticks": ""
           }
          },
          "title": {
           "x": 0.05
          },
          "xaxis": {
           "automargin": true,
           "gridcolor": "white",
           "linecolor": "white",
           "ticks": "",
           "title": {
            "standoff": 15
           },
           "zerolinecolor": "white",
           "zerolinewidth": 2
          },
          "yaxis": {
           "automargin": true,
           "gridcolor": "white",
           "linecolor": "white",
           "ticks": "",
           "title": {
            "standoff": 15
           },
           "zerolinecolor": "white",
           "zerolinewidth": 2
          }
         }
        },
        "width": 840,
        "xaxis": {
         "linecolor": "black",
         "linewidth": 1,
         "mirror": "allticks",
         "showgrid": false,
         "showline": true,
         "tickcolor": "black",
         "tickfont": {
          "color": "rgb(0,0,0)",
          "size": 20
         },
         "ticks": "outside",
         "tickwidth": 1,
         "title": {
          "font": {
           "color": "rgb(0,0,0)",
           "size": 22
          },
          "text": "v<sub>x</sub> (Å·ps⁻¹)"
         }
        },
        "yaxis": {
         "linecolor": "black",
         "linewidth": 1,
         "mirror": "allticks",
         "showgrid": false,
         "showline": true,
         "tickcolor": "black",
         "tickfont": {
          "color": "rgb(0,0,0)",
          "size": 20
         },
         "ticks": "outside",
         "tickwidth": 1,
         "title": {
          "font": {
           "color": "rgb(0,0,0)",
           "size": 22
          },
          "text": "Y (Å)"
         }
        }
       }
      }
     },
     "metadata": {},
     "output_type": "display_data"
    },
    {
     "name": "stdout",
     "output_type": "stream",
     "text": [
      "Linear fit equation: y = 1160.9951x + 26.9511\n",
      "R-squared: 0.9761\n"
     ]
    }
   ],
   "source": [
    "import pandas as pd\n",
    "import numpy as np\n",
    "from dfttk.plotly_format import plot_format\n",
    "\n",
    "# Read the velocity profile file\n",
    "vx_file = os.path.join(path, \"vx_profile_run_avg.txt\")\n",
    "\n",
    "# Using pandas - clean and simple\n",
    "df = pd.read_csv(vx_file, skiprows=4, sep='\\s+', names=['Chunk', 'Coord1', 'Ncount', 'vx'])\n",
    "\n",
    "# Remove boundary chunks where Ncount is 0\n",
    "df_filtered = df[df['Ncount'] > 0].copy()\n",
    "\n",
    "# Access the data for plotting\n",
    "coord1 = df_filtered['Coord1'].values * length_y\n",
    "vx = df_filtered['vx'].values\n",
    "\n",
    "# Fit a linear model: coord1 = slope * vx + intercept\n",
    "coeffs = np.polyfit(vx, coord1, 1)  # coeffs[0]: slope, coeffs[1]: intercept\n",
    "slope, intercept = coeffs[0], coeffs[1]\n",
    "\n",
    "# Generate points for the fit line\n",
    "fit_x = np.linspace(np.min(vx), np.max(vx), 100)\n",
    "fit_y = slope * fit_x + intercept\n",
    "\n",
    "# Calculate R-squared\n",
    "fit_y_data = slope * vx + intercept\n",
    "ss_res = np.sum((coord1 - fit_y_data) ** 2)  # Sum of squares of residuals\n",
    "ss_tot = np.sum((coord1 - np.mean(coord1)) ** 2)  # Total sum of squares\n",
    "r_squared = 1 - (ss_res / ss_tot)\n",
    "\n",
    "# Plot coord1 vs. vx using plotly\n",
    "import plotly.graph_objects as go\n",
    "fig = go.Figure()\n",
    "\n",
    "# Add scatter plot\n",
    "fig.add_trace(go.Scatter(\n",
    "    x=vx, \n",
    "    y=coord1, \n",
    "    mode='markers',\n",
    "    name='Data',\n",
    "    marker=dict(size=8)\n",
    "))\n",
    "\n",
    "# Add linear fit line\n",
    "fig.add_trace(go.Scatter(\n",
    "    x=fit_x,\n",
    "    y=fit_y,\n",
    "    mode='lines',\n",
    "    name=f'Linear Fit (R² = {r_squared:.4f})',\n",
    "    line=dict(dash='dash', color='red', width=2)\n",
    "))\n",
    "\n",
    "plot_format(fig, xtitle='v<sub>x</sub> (Å·ps⁻¹)', ytitle='Y (Å)')\n",
    "\n",
    "# Add annotation with fit equation and R²\n",
    "fig.add_annotation(\n",
    "    x=0.05, y=0.95,\n",
    "    xref=\"paper\", yref=\"paper\",\n",
    "    text=f\"y = {slope:.4f}x + {intercept:.4f}<br>R² = {r_squared:.4f}\",\n",
    "    showarrow=False,\n",
    "    font=dict(size=12),\n",
    "    bgcolor=\"white\",\n",
    "    bordercolor=\"black\",\n",
    "    borderwidth=1\n",
    ")\n",
    "\n",
    "fig.show()\n",
    "\n",
    "# Print the results\n",
    "print(f\"Linear fit equation: y = {slope:.4f}x + {intercept:.4f}\")\n",
    "print(f\"R-squared: {r_squared:.4f}\")"
   ]
  },
  {
   "cell_type": "markdown",
   "metadata": {},
   "source": [
    "## Calculate Viscosity"
   ]
  },
  {
   "cell_type": "code",
   "execution_count": 44,
   "metadata": {},
   "outputs": [
    {
     "name": "stdout",
     "output_type": "stream",
     "text": [
      "Viscosity: 2.92 mPa.s\n"
     ]
    }
   ],
   "source": [
    "# Read the -pxy running average file\n",
    "neg_pxy_file = os.path.join(path, \"pxy_run_avg.txt\")\n",
    "\n",
    "# Using pandas - clean and simple\n",
    "df = pd.read_csv(neg_pxy_file, skiprows=2, sep='\\s+', names=['Timestep', 'Neg_pxy'])\n",
    "\n",
    "# Take the final neg_pxy value\n",
    "pxy_run_avg = df['Neg_pxy'].values[-1]\n",
    "\n",
    "# Calculate viscosity \n",
    "vx_run_avg = 1/slope\n",
    "viscosity = (pxy_run_avg/vx_run_avg)*0.0001 # Convert bar.ps to mPa.s \n",
    "print(f\"Viscosity: {viscosity:.2f} mPa.s\")"
   ]
  }
 ],
 "metadata": {
  "kernelspec": {
   "display_name": "ovito-env",
   "language": "python",
   "name": "python3"
  },
  "language_info": {
   "codemirror_mode": {
    "name": "ipython",
    "version": 3
   },
   "file_extension": ".py",
   "mimetype": "text/x-python",
   "name": "python",
   "nbconvert_exporter": "python",
   "pygments_lexer": "ipython3",
   "version": "3.10.13"
  }
 },
 "nbformat": 4,
 "nbformat_minor": 2
}
