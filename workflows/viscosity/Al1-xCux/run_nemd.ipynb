{
 "cells": [
  {
   "cell_type": "markdown",
   "metadata": {},
   "source": [
    "# LAMMPS Input Files"
   ]
  },
  {
   "cell_type": "markdown",
   "metadata": {},
   "source": [
    "## Simulation and File Parameters"
   ]
  },
  {
   "cell_type": "markdown",
   "metadata": {},
   "source": [
    "1. **First Pick potential**\n",
    "2. **Then pick supercell size/number of atoms**\n",
    "3. **Then vary simulation parameters:**\n",
    "   - Composition\n",
    "   - Temperature\n",
    "   - Shear strain rate"
   ]
  },
  {
   "cell_type": "code",
   "execution_count": 41,
   "metadata": {},
   "outputs": [],
   "source": [
    "from pymatgen.core import Structure, Lattice, Element\n",
    "from pymatgen.io.lammps.data import LammpsData\n",
    "import numpy as np\n",
    "import os\n",
    "\n",
    "# 1. Select potential\n",
    "#potential_folder = \"2025_Sharifi\"\n",
    "potential_folder = \"2022_Mahata\"\n",
    "#potential_folder = \"Zhou04_eam_alloy\"\n",
    "#potential_folder = \"Cu1_eam_fs\"\n",
    "\n",
    "#potential_files = [\"library.meam\", \"CuAl.meam\"]\n",
    "potential_files = [\"library.AlCu.meam\", \"AlCu.meam\"]\n",
    "#potential_files = [\"CuAgAuNiPdPtAlPbFeMoTaWMgCoTiZr_Zhou04.eam.alloy\"]\n",
    "#potential_files = [\"Cu1.eam.fs\"]\n",
    "\n",
    "# 2. Pick supercell size/number of atoms\n",
    "supercell_size = (14, 14, 14)\n",
    "data_file = \"Al1-xCux.data\"\n",
    "\n",
    "# 3. Pick simulation parameters: composition, temperature and shear strain rate\n",
    "x = 1.00   # Cu fraction\n",
    "T = 1800  # Temperature (K)\n",
    "xyrate_1_per_s = 1e9  # Shear rate (1/s)\n",
    "xyrate_str = f\"{xyrate_1_per_s:.0e}\".replace(\"+0\", \"\").replace(\"+\", \"\") # For path\n",
    "\n",
    "# Directory and file path formatting\n",
    "path = os.path.join(\n",
    "    \"/ocean/projects/dmr190011p/nhew/lammps-workflows/workflows/viscosity/Al1-xCux\",\n",
    "    potential_folder, f\"x_{x:.2f}/{T}K/{xyrate_str}/\"\n",
    ")\n",
    "os.makedirs(path, exist_ok=True)"
   ]
  },
  {
   "cell_type": "markdown",
   "metadata": {},
   "source": [
    "## Helper Functions"
   ]
  },
  {
   "cell_type": "code",
   "execution_count": 42,
   "metadata": {},
   "outputs": [],
   "source": [
    "# Generate Al1-xCux supercell with random Cu substitutions\n",
    "def generate_al1xcux_supercell(x, supercell_size, lattice_constant):\n",
    "    lattice = Lattice.cubic(lattice_constant)\n",
    "    structure = Structure.from_spacegroup(\n",
    "        \"Fm-3m\", lattice, [\"Al\"], [[0, 0, 0]]\n",
    "    )\n",
    "    supercell = structure * supercell_size\n",
    "    num_sites = len(supercell)\n",
    "    num_cu = int(round(x * num_sites))\n",
    "    al_indices = [i for i, site in enumerate(supercell) if site.specie == Element(\"Al\")]\n",
    "    np.random.seed(42)\n",
    "    cu_indices = np.random.choice(al_indices, num_cu, replace=False)\n",
    "    for idx in cu_indices:\n",
    "        supercell[int(idx)] = \"Cu\"\n",
    "    return supercell\n",
    "\n",
    "# Convenience function to get atom types to write in LAMMPS input script\n",
    "def get_atom_types(x):\n",
    "    if x == 0:\n",
    "        return \"Al\"\n",
    "    elif x == 1:\n",
    "        return \"Cu\"\n",
    "    else:\n",
    "        return \"Al Cu\""
   ]
  },
  {
   "cell_type": "markdown",
   "metadata": {},
   "source": [
    "## Generate and Write LAMMPS Data File"
   ]
  },
  {
   "cell_type": "code",
   "execution_count": 43,
   "metadata": {},
   "outputs": [],
   "source": [
    "# 2022 Mahata lattice constants\n",
    "Al_lattice_constant = 4.0502  # Angstrom\n",
    "Cu_lattice_constant = 3.6150  # Angstrom\n",
    "\n",
    "# Pick the lattice constant based on Vegard's law (linear interpolation)\n",
    "lattice_constant = Al_lattice_constant * (1 - x) + Cu_lattice_constant * x  \n",
    "\n",
    "# Generate the supercell and write LAMMPS data file\n",
    "supercell = generate_al1xcux_supercell(x, supercell_size, lattice_constant)\n",
    "lammps_data = LammpsData.from_structure(supercell, atom_style=\"atomic\")\n",
    "lammps_data.write_file(os.path.join(path, data_file))"
   ]
  },
  {
   "cell_type": "markdown",
   "metadata": {},
   "source": [
    "## Shear Strain Calculation and Simulation Time"
   ]
  },
  {
   "cell_type": "code",
   "execution_count": 44,
   "metadata": {},
   "outputs": [],
   "source": [
    "# Shear Strain and Simulation Time Calculation\n",
    "#\n",
    "# T(t) = T0 + L0 * erate * dt\n",
    "#\n",
    "# Where:\n",
    "#   T(t)   : Tilt factor at time t (same as delta_x)\n",
    "#   T0     : Initial tilt factor\n",
    "#   L0     : Original length of the box perpendicular to the shear direction\n",
    "#   erate  : Shear strain rate\n",
    "#   dt     : Elapsed time\n",
    "#\n",
    "# Example:\n",
    "#   If erate = 0.01 (1/ps), then:\n",
    "#     - Shear strain after 1 ps is 0.01\n",
    "#     - Shear strain after 2 ps is 0.02, etc. \n",
    "# This block calculates the total simulation time and total shear strain for a given number of steps and timestep.\n",
    "# You can use the results here to set step2_run_time and step3_run_time in the next block.\n",
    "\n",
    "# Parameters\n",
    "xyrate_1_per_ps = xyrate_1_per_s / 1e12  # Shear rate in 1/ps\n",
    "\n",
    "dt = 0.001  # Timestep in ps (1 fs)\n",
    "\n",
    "step2_L0 = 2  # Shear strain for step 2\n",
    "step3_L0 = 6  # Shear strain for step 3\n",
    "\n",
    "step2_run_time = int(step2_L0 / xyrate_1_per_ps * 1000)  # Step 2: NEMD equilibration (timesteps yielding step2_L0)\n",
    "step3_run_time = int(step3_L0 / xyrate_1_per_ps * 1000)  # Step 3: Data gathering (timesteps yielding step3_L0)"
   ]
  },
  {
   "cell_type": "code",
   "execution_count": 45,
   "metadata": {},
   "outputs": [
    {
     "data": {
      "text/plain": [
       "6000"
      ]
     },
     "execution_count": 45,
     "metadata": {},
     "output_type": "execute_result"
    }
   ],
   "source": [
    "int(step3_run_time/1000)"
   ]
  },
  {
   "cell_type": "markdown",
   "metadata": {},
   "source": [
    "## Generate and Write LAMMPS Input Script"
   ]
  },
  {
   "cell_type": "code",
   "execution_count": 46,
   "metadata": {},
   "outputs": [],
   "source": [
    "atom_types = get_atom_types(x)\n",
    "\n",
    "# Potential settings\n",
    "# For 2022_Mahata\n",
    "pair_coeff = \"meam\"\n",
    "\n",
    "# For 2004 Zhou\n",
    "#pair_coeff = \"eam/alloy\"\n",
    "\n",
    "# For Cu eam\n",
    "#pair_coeff = \"eam/fs\"\n",
    "\n",
    "if pair_coeff == \"meam\":\n",
    "    elements = [\"Al\", \"Cu\"]\n",
    "    potential_files_str = f\"{potential_files[0]} {' '.join(elements)} {potential_files[1]}\"\n",
    "else:\n",
    "    potential_files_str = pair_coeff\n",
    "\n",
    "step1_run_time = 1_000_000 # Step 1: Temperature equilibration (1 ns)\n",
    "num_bins = 28 # Number of bins for velocity profile along y direction TODO: consider adjusting this\n",
    "\n",
    "in_nemd_script = f\"\"\"# Sample LAMMPS input script for viscosity of FCC solid\n",
    "# NEMD via fix deform and fix nvt/sllod\n",
    "\n",
    "# Settings\n",
    "variable        P equal 1 \n",
    "variable        T equal {T}\n",
    "variable        xyrate_1_per_ps equal {xyrate_1_per_ps}\n",
    "\n",
    "# Problem setup\n",
    "units\t\t    metal\n",
    "dimension\t    3\n",
    "boundary        p p p\n",
    "atom_style\t    atomic\n",
    "\n",
    "read_data\t    Al1-xCux.data\n",
    "change_box      all triclinic\n",
    "\n",
    "pair_style      {pair_coeff}\n",
    "pair_coeff      * * {potential_files_str} {atom_types}\n",
    "\n",
    "# --- Step 1. Temperature equilibration ---\n",
    "velocity        all create $T 97287\n",
    "fix             1 all npt temp $T $T $(100.0*dt) iso $P $P $(1000.0*dt)\n",
    "\n",
    "thermo          1000\n",
    "#dump            equilibration all custom 50 dump_temp_equil id type x y z vx vy vz \n",
    "run\t            {step1_run_time}\n",
    "\n",
    "#undump         equilibration\n",
    "unfix  \t        1\n",
    "reset_timestep  0\n",
    "\n",
    "# --- Step 2. Turn on NEMD shear and equilibrate some more ---\n",
    "fix\t\t        1 all nvt/sllod temp $T $T $(100.0*dt)\n",
    "\n",
    "# Perform deformation every 1 timestep\n",
    "# erate - engineering shear strain rate (1/time units)\n",
    "fix\t\t        2 all deform 1 xy erate ${{xyrate_1_per_ps}} remap v\n",
    "\n",
    "compute\t\t    usual all temp\n",
    "compute\t\t    tilt all temp/deform\n",
    "\n",
    "thermo          1000\n",
    "thermo_style\tcustom step temp c_usual epair etotal press pxy\n",
    "thermo_modify\ttemp tilt\n",
    "\n",
    "#dump            nemd_equilibration all custom 50 dump_nemd_equil id type x y z vx vy vz\n",
    "run\t\t        {step2_run_time}\n",
    "#undump          nemd_equilibration\n",
    "reset_timestep  0\n",
    "\n",
    "# --- Step 3. Data gathering run ---\n",
    "# The average in each chunk is computed every 1000 timesteps using 100 samples taken at intervals of \n",
    "# 10 timesteps from the preceding timesteps.\n",
    "# For this case, there seems to be no difference between lower, center, and upper options.\n",
    "compute         layers_center all chunk/atom bin/1d y center {1/num_bins} units reduced\n",
    "fix\t\t        3 all ave/chunk 10 {int(step3_run_time/10)} {step3_run_time} layers_center vx file vx_profile_run_avg.txt\n",
    "\n",
    "# This only takes into account the top and bottom velocity points to fit the linear profile\n",
    "# It doesn't even use fix 4, which is the only one that actually computes the profile\n",
    "# The viscosity is calculated from the slope of the linear profile\n",
    "variable        timestep equal step\n",
    "variable\t    visc equal -pxy/(v_xyrate_1_per_ps)*0.0001 # Computed every timestep. Convert bar.ps to mPa.s \n",
    "\n",
    "# The average in each chunk is computed every 1000 timesteps using 100 samples taken at intervals of \n",
    "# 10 timesteps from the preceding timesteps.\n",
    "# The running average averages the average values computed every 1000 timesteps.\n",
    "fix             vprint all print 10 \\\"${{timestep}} ${{visc}}\\\" file visc_output.txt screen no\n",
    "fix             pprint all print 10 \\\"${{timestep}} ${{neg_pxy}}\\\" file pxy_output.txt screen no\n",
    "fix\t\t        vave all ave/time 10 100 1000 v_visc ave running start 1000 file visc_run_avg.txt\n",
    "\n",
    "# Calculate the running average of -pxy as well\n",
    "variable        neg_pxy equal -pxy\n",
    "fix             pave all ave/time 10 100 1000 v_neg_pxy ave running start 1000 file pxy_run_avg.txt\n",
    "\n",
    "thermo          1000\n",
    "thermo_style\tcustom step temp etotal press pxy ly v_visc f_vave\n",
    "thermo_modify\ttemp tilt\n",
    "\n",
    "dump\t        data_gathering all custom {int(step3_run_time/1000)} dump_nemd_analyze id type x y z vx vy vz \n",
    "\n",
    "run\t\t        {step3_run_time}\n",
    "\"\"\"\n",
    "\n",
    "with open(os.path.join(path, \"in.nemd\"), \"w\") as f:\n",
    "    f.write(in_nemd_script)"
   ]
  },
  {
   "cell_type": "markdown",
   "metadata": {},
   "source": [
    "## Copy Potential File"
   ]
  },
  {
   "cell_type": "code",
   "execution_count": 47,
   "metadata": {},
   "outputs": [],
   "source": [
    "import shutil\n",
    "for potential in potential_files:\n",
    "    src_potential = f\"/ocean/projects/dmr190011p/nhew/lammps-workflows/workflows/viscosity/Al1-xCux/potential_files/{potential_folder}/{potential}\"\n",
    "    dst_potential = os.path.join(path, potential)\n",
    "    shutil.copy(src_potential, dst_potential)"
   ]
  },
  {
   "cell_type": "markdown",
   "metadata": {},
   "source": [
    "## Write and Submit Job Script"
   ]
  },
  {
   "cell_type": "code",
   "execution_count": 48,
   "metadata": {},
   "outputs": [
    {
     "name": "stdout",
     "output_type": "stream",
     "text": [
      "Submitted batch job 35604865\n"
     ]
    }
   ],
   "source": [
    "job_script = \"\"\"#!/bin/bash\n",
    "#SBATCH --job-name=Bridges-2\n",
    "#SBATCH -A dmr190011p\n",
    "#SBATCH -p RM\n",
    "#SBATCH -N 4\n",
    "#SBATCH --ntasks-per-node 64\n",
    "#SBATCH -t 48:00:00\n",
    "\n",
    "module purge\n",
    "module load intelmpi/2021.3.0-intel2021.3.0\n",
    "module load gcc/10.2.0\n",
    "module load cuda/11.7.1\n",
    "module load python\n",
    "\n",
    "echo \"SLURM_NTASKS: \" $SLURM_NTASKS\n",
    "\n",
    "ulimit -s unlimited\n",
    "export OMP_NUM_THREADS=1\n",
    "\n",
    "mpirun -n $SLURM_NTASKS /opt/packages/LAMMPS/lammps-23Jun2022/build/lmp -sf omp -pk omp $OMP_NUM_THREADS -in in.nemd\n",
    "\"\"\"\n",
    "\n",
    "with open(os.path.join(path, \"job.sh\"), \"w\") as f:\n",
    "    f.write(job_script)\n",
    "\n",
    "import subprocess\n",
    "cwd = os.getcwd()\n",
    "os.chdir(path)\n",
    "try:\n",
    "    subprocess.run([\"sbatch\", \"job.sh\"], check=True)\n",
    "finally:\n",
    "    os.chdir(cwd)"
   ]
  }
 ],
 "metadata": {
  "kernelspec": {
   "display_name": "ovito-env",
   "language": "python",
   "name": "python3"
  },
  "language_info": {
   "codemirror_mode": {
    "name": "ipython",
    "version": 3
   },
   "file_extension": ".py",
   "mimetype": "text/x-python",
   "name": "python",
   "nbconvert_exporter": "python",
   "pygments_lexer": "ipython3",
   "version": "3.10.13"
  }
 },
 "nbformat": 4,
 "nbformat_minor": 2
}
